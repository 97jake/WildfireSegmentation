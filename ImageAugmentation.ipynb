{
  "nbformat": 4,
  "nbformat_minor": 0,
  "metadata": {
    "colab": {
      "name": "image_resizing.ipynb",
      "provenance": []
    },
    "kernelspec": {
      "name": "python3",
      "display_name": "Python 3"
    },
    "language_info": {
      "name": "python"
    }
  },
  "cells": [
    {
      "cell_type": "code",
      "execution_count": null,
      "metadata": {
        "id": "coIxqUo7r8Vw"
      },
      "outputs": [],
      "source": [
        "import cv2\n",
        "import numpy as np\n",
        "from matplotlib import pyplot as plt\n",
        "\n",
        "from google.colab import drive\n",
        "import os"
      ]
    },
    {
      "cell_type": "markdown",
      "source": [
        "This notebook is for augmenting your dataset. There are a number of functions that employ traditional image augmentation techniques. \n",
        "\n",
        "Important Note: At this point I started working in Google Colab instead of Jupyter notebook. If you're going to run the neural network in the future, you'll want to be working in Colab, so for me it was easier to start storing the data in Colab in preparation for this. Of course, this is optional, so I will make the filepaths as general as possible, but the default will assume that the data is stored in the home page of Google Colab."
      ],
      "metadata": {
        "id": "2K4jZhyk0ThX"
      }
    },
    {
      "cell_type": "markdown",
      "source": [
        "Also note: the first three cells are just functions. You should be able to ignore the second two, use the first one if you need to resize images."
      ],
      "metadata": {
        "id": "710ajf7H8M3d"
      }
    },
    {
      "cell_type": "code",
      "source": [
        "def resize_images(images, labels):\n",
        "  \"\"\"\n",
        "  This function will resize images/labels if needed. Really only important if you need to make\n",
        "  adjustments to your deep learning model and adjust the input size of the images.\n",
        "\n",
        "  Also maybe you decide to stick with large images when labeling and want to resize them here. \n",
        "\n",
        "  Parameters:\n",
        "    images (ndarray): numpy array of color images (meaning they have three channels (RGB))\n",
        "    labels (ndarray): numpy array of labels\n",
        "  \"\"\"\n",
        "  #Output images will be this size\n",
        "  new_dim = (256,256)\n",
        "\n",
        "  if is_color:\n",
        "    resized_images = np.zeros((len(image_names),*new_dim,3))\n",
        "  else:\n",
        "      resized_images = np.zeros((len(image_names),*new_dim))\n",
        "  resized_labels = np.zeros((labels.shape[0], *new_dim))\n",
        "\n",
        "  for i, img in enumerate(images):\n",
        "    label = labels[i]\n",
        "\n",
        "    new_test = np.zeros((2048, 2048, 4))\n",
        "    new_test[:,:,:3] = img\n",
        "\n",
        "    dim = (new_dim, new_dim)\n",
        "      \n",
        "    # resize image\n",
        "    resized_img = cv2.resize(new_test, dim, interpolation = cv2.INTER_AREA)\n",
        "    resized_label = cv2.resize(label, dim, interpolation = cv2.INTER_AREA)\n",
        "\n",
        "    resized_images[i] = resized_img[:,:,:3] / 255.\n",
        "\n",
        "    mask = resized_label > 0\n",
        "    resized_label[mask] = 255.\n",
        "\n",
        "    resized_labels[i] = resized_label\n",
        "  \n",
        "  return resized_images, resized_labels"
      ],
      "metadata": {
        "id": "_dxtQ5JJsoep"
      },
      "execution_count": 1,
      "outputs": []
    },
    {
      "cell_type": "code",
      "source": [
        "#The following is a long list of helper functions for the original transformation functions.\n",
        "#Basically these functions accept an image and transformation parameters and perform the transformation.\n",
        "#The next cell will randomly chose these parameters and call these functions.\n",
        "\n",
        "def translate_image_helper(im, a, b):\n",
        "  trans_image = np.zeros_like(im)\n",
        "\n",
        "  for j in range(3):\n",
        "    c = im[:,:,j]\n",
        "\n",
        "    new_image1 = np.zeros_like(c)\n",
        "    new_image2 = new_image1.copy()\n",
        "    \n",
        "    p1 = c[:,:a]\n",
        "    p2 = c[:,a:]\n",
        "    \n",
        "    new_image1 = np.column_stack((p2,p1))\n",
        "    \n",
        "    p1 = new_image1[:b,:]\n",
        "    p2 = new_image1[b:,:]\n",
        "\n",
        "    new_image2 = np.vstack((p2,p1))\n",
        "\n",
        "    trans_image[:,:,j] = new_image2\n",
        "\n",
        "  return trans_image\n",
        "\n",
        "def translate_label_helper(label, a, b):\n",
        "       \n",
        "  new_image1 = np.zeros_like(label)\n",
        "  new_image2 = new_image1.copy()\n",
        "  \n",
        "  p1 = label[:,:a]\n",
        "  p2 = label[:,a:]\n",
        "  \n",
        "  new_image1 = np.column_stack((p2,p1))\n",
        "  \n",
        "  p1 = new_image1[:b,:]\n",
        "  p2 = new_image1[b:,:]\n",
        "\n",
        "  new_image2 = np.vstack((p2,p1))\n",
        "\n",
        "  return new_image2\n",
        "\n",
        "\n",
        "\n",
        "\n",
        "def rotation_image_helper(im, t):\n",
        "  trans_image = np.zeros_like(im)\n",
        "  for i in range(3):\n",
        "\n",
        "    image = im[:,:,i]\n",
        "\n",
        "    d1, d2 = image.shape\n",
        "        \n",
        "    coords = np.mgrid[0:d1, 0:d2].reshape((2,d1*d2))\n",
        "    \n",
        "    #Create rotation matrix\n",
        "    rotation_matrix = np.array([[np.cos(t), -np.sin(t)], [np.sin(t), np.cos(t)]])\n",
        "    \n",
        "    new_coords = rotation_matrix@coords\n",
        "    new_coords = new_coords.astype(int)\n",
        "    \n",
        "    x, y = new_coords.reshape((2, d1, d2), order='F')\n",
        "    trans_image[:,:,i] = np.take(image, x+d1*y, mode='wrap').reshape((d1, d2))\n",
        "  return trans_image\n",
        "\n",
        "def rotation_label_helper(label, t):\n",
        "  d1, d2 = label.shape\n",
        "      \n",
        "  coords = np.mgrid[0:d1, 0:d2].reshape((2,d1*d2))\n",
        "  \n",
        "  #Create rotation matrix\n",
        "  rotation_matrix = np.array([[np.cos(t), -np.sin(t)], [np.sin(t), np.cos(t)]])\n",
        "  \n",
        "  new_coords = rotation_matrix@coords\n",
        "  new_coords = new_coords.astype(int)\n",
        "  \n",
        "  x, y = new_coords.reshape((2, d1, d2), order='F')\n",
        "  new_image = np.take(label, x+d1*y, mode='wrap').reshape((d1, d2))\n",
        "\n",
        "  return new_image\n",
        "\n",
        "\n",
        "\n",
        "\n",
        "def skew_image_helper(im, a):\n",
        "  trans_image = np.zeros_like(im)\n",
        "\n",
        "  for i in range(3):\n",
        "    image = im[:,:,i]\n",
        "   \n",
        "    d1, d2 = image.shape\n",
        "    \n",
        "    #Create coordinate matrix\n",
        "    coords = np.mgrid[0:d1, 0:d2].reshape((2,d1*d2))\n",
        "    \n",
        "    rotation_matrix = np.array([[1,a], [0,1]])\n",
        "    \n",
        "    new_coords = rotation_matrix@coords\n",
        "    new_coords = new_coords.astype(int)\n",
        "    \n",
        "    x, y = new_coords.reshape((2, d1, d2), order='F')\n",
        "    trans_image[:,:,i] = np.take(image, x+d1*y, mode='wrap').reshape((d1, d2))\n",
        "\n",
        "  return trans_image\n",
        "\n",
        "def skew_label_helper(label, a):\n",
        "  d1, d2 = label.shape\n",
        "      \n",
        "  coords = np.mgrid[0:d1, 0:d2].reshape((2,d1*d2))\n",
        "    \n",
        "  rotation_matrix = np.array([[1,a], [0,1]])\n",
        "  \n",
        "  new_coords = rotation_matrix@coords\n",
        "  new_coords = new_coords.astype(int)\n",
        "  \n",
        "  x, y = new_coords.reshape((2, d1, d2), order='F')\n",
        "\n",
        "  new_image = np.take(label, x+d1*y, mode='wrap').reshape((d1, d2))\n",
        "\n",
        "  return new_image\n",
        "\n",
        "\n",
        "\n",
        "\n",
        "def horizontal_image_helper(im):\n",
        "  trans_image = np.zeros_like(im)\n",
        "\n",
        "  for i in range(3):\n",
        "\n",
        "    image = im[:,:,i]\n",
        "\n",
        "    d1, d2 = image.shape\n",
        "        \n",
        "    coords = np.mgrid[0:d1, 0:d2].reshape((2,d1*d2))\n",
        "    \n",
        "    #Do a rotation using theta = pi\n",
        "    rotation_matrix = np.array([[-1,0], [0,-1]])\n",
        "    \n",
        "    new_coords = rotation_matrix@coords\n",
        "    new_coords = new_coords.astype(int)\n",
        "    \n",
        "    x, y = new_coords.reshape((2, d1, d2), order='F')\n",
        "\n",
        "    trans_image[:,:,i] = np.take(image, x+d1*y, mode='wrap').reshape((d1, d2))\n",
        "\n",
        "  return trans_image\n",
        "\n",
        "def horizontal_label_helper(label):\n",
        "  d1, d2 = label.shape\n",
        "        \n",
        "  coords = np.mgrid[0:d1, 0:d2].reshape((2,d1*d2))\n",
        "  \n",
        "  #Do a rotation using theta = pi\n",
        "  rotation_matrix = np.array([[-1,0], [0,-1]])\n",
        "  \n",
        "  new_coords = rotation_matrix@coords\n",
        "  new_coords = new_coords.astype(int)\n",
        "  \n",
        "  x, y = new_coords.reshape((2, d1, d2), order='F')\n",
        "\n",
        "  new_image = np.take(label, x+d1*y, mode='wrap').reshape((d1, d2))\n",
        "\n",
        "  return new_image\n",
        "\n",
        "\n",
        "\n",
        "def noise_image_helper(im, vals):\n",
        "  trans_image = np.zeros_like(im)\n",
        "\n",
        "  for i in range(3):\n",
        "\n",
        "    image = im[:,:,i]\n",
        "    \n",
        "    d1, d2 = image.shape\n",
        "    \n",
        "    #Create coordinate matrix\n",
        "    coords = np.mgrid[0:d1, 0:d2].reshape((2,d1*d2))\n",
        "    \n",
        "    new_coords = coords + vals\n",
        "    new_coords = new_coords.astype(int)\n",
        "    \n",
        "    x, y = new_coords.reshape((2, d1, d2), order='F')\n",
        "    trans_image[:,:,i] = np.take(image, x+d1*y, mode='wrap').reshape((d1, d2))\n",
        "\n",
        "  return trans_image\n",
        "\n",
        "def noise_label_helper(label, vals):\n",
        "  d1, d2 = label.shape\n",
        "        \n",
        "  coords = np.mgrid[0:d1, 0:d2].reshape((2,d1*d2))\n",
        "    \n",
        "  new_coords = coords + vals\n",
        "  new_coords = new_coords.astype(int)\n",
        "  \n",
        "  x, y = new_coords.reshape((2, d1, d2), order='F')\n",
        "\n",
        "  new_image = np.take(label, x+d1*y, mode='wrap').reshape((d1, d2))\n",
        "\n",
        "  return new_image\n",
        "\n",
        "\n",
        "\n"
      ],
      "metadata": {
        "id": "W33YTgye378p"
      },
      "execution_count": 2,
      "outputs": []
    },
    {
      "cell_type": "code",
      "source": [
        "#These functions perform an identical transformation on both image and label and return the transformed image and label\n",
        "\n",
        "def translate(images, labels, A, B): \n",
        "    \"\"\"Returns each image translated by a random amount (a,b), where\n",
        "    a~Uniform(-A,A) and b~Uniform(-B,B). The resulting image should be cropped\n",
        "    to be of size (d1,d2). Note that this translation will leave a border on\n",
        "    two sides of the image. Fill the empty border with the parts that were cropped\n",
        "    off the opposite sides.\n",
        "        Parameters:\n",
        "            images (d1,d2): d1 x d2 array \n",
        "            A (float): horizontal translation parameter\n",
        "            B (float): vertical translation parameter\n",
        "        Returns:\n",
        "            translated_image (d1,d2): array of translated images\n",
        "    \"\"\"\n",
        "    new_images = np.zeros_like(images)\n",
        "    new_labels = np.zeros_like(labels)\n",
        "    \n",
        "    #For each image in set...\n",
        "    for i,image in enumerate(images):\n",
        "        #Randomize a and b values\n",
        "        a = np.random.randint(-A,A)\n",
        "        b = np.random.randint(-B,B)\n",
        "        \n",
        "        #This is an awful way to implement this but I couldn't find another way\n",
        "        #I basically just create new images by splicing everything by ha\n",
        "\n",
        "        if is_color:\n",
        "          new_images[i] = translate_image_helper(image, a, b)\n",
        "        else:\n",
        "          new_images[i] = translate_label_helper(image, a, b)\n",
        "        new_labels[i] = translate_label_helper(labels[i], a, b)\n",
        "    \n",
        "    return new_images, new_labels\n",
        "    \n",
        "    \n",
        "    \n",
        "def rotate(images, labels, theta): \n",
        "    \"\"\" Returns an image rotated by a random amount t~Uniform(-theta,theta).\n",
        "    The resulting image should be cropped to be the same size as the original,\n",
        "    and any blank parts should be filled with one of the parts cropped off the\n",
        "    other side.\n",
        "        Parameters:\n",
        "            images (d1,d2): d1 x d2 array\n",
        "            theta (float): largest acceptable rotation angle\n",
        "        Returns:\n",
        "            rotated_image (d1,d2): array of rotated image\n",
        "    \"\"\"\n",
        "    \n",
        "    new_images = np.zeros_like(images)\n",
        "    new_labels = np.zeros_like(labels)\n",
        "    \n",
        "    #For each image in set...\n",
        "    for i,image in enumerate(images):\n",
        "        #Randomize a theta value\n",
        "        t = np.random.uniform(-theta, theta)\n",
        "        \n",
        "        if is_color:\n",
        "          new_images[i] = rotation_image_helper(image, t)\n",
        "        else:\n",
        "          new_images[i] = rotation_label_helper(image, t)\n",
        "        new_labels[i] = rotation_label_helper(labels[i], t)\n",
        "    \n",
        "    return new_images, new_labels\n",
        "\n",
        "    \n",
        "def skew(images, labels, A): \n",
        "    \"\"\" Returns an image with the linear transformation [[1,a],[0,1]] applied,\n",
        "    where a~Uniform(-A,A). Crop the parts that go outside the image boundaries\n",
        "    and fill missing areas with the appropriate cropped piece.\n",
        "        Parameters:\n",
        "            images (d1,d2): d1 x d2 array\n",
        "            A (float): skew parameter\n",
        "        Returns:\n",
        "            skewed_image (d1,d2): array of skewed image\n",
        "    \"\"\"\n",
        "    new_images = np.zeros_like(images)\n",
        "    new_labels = np.zeros_like(labels)\n",
        "\n",
        "    #For each image in set...\n",
        "    for i,image in enumerate(images):\n",
        "        #Randomize a value\n",
        "        a = np.random.uniform(-A, A)\n",
        "        \n",
        "        if is_color:\n",
        "          new_images[i] = skew_image_helper(image, a)\n",
        "        else:\n",
        "          new_images[i] = skew_label_helper(image, a)\n",
        "        new_labels[i] = skew_label_helper(labels[i], a)\n",
        "    \n",
        "    return new_images, new_labels\n",
        "\n",
        "def flip_horizontal(images, labels):\n",
        "    \"\"\"Flip horizontal. Returns a horizontally flipped version of each image.\n",
        "        Parameters:\n",
        "            images (d1,d2): d1 x d2 image array \n",
        "        Returns:\n",
        "            flipped_image (d1,d2): array of flipped image\n",
        "    \"\"\"\n",
        "    \n",
        "    new_images = np.zeros_like(images)\n",
        "    new_labels = np.zeros_like(labels)\n",
        "    \n",
        "    #For each image in set...\n",
        "    for i,image in enumerate(images):\n",
        "        \n",
        "        if is_color:\n",
        "          new_images[i] = horizontal_image_helper(image)\n",
        "        else:\n",
        "          new_images[i] = horizontal_label_helper(image)\n",
        "        new_labels[i] = horizontal_label_helper(labels[i])\n",
        "    \n",
        "    return new_images, new_labels\n",
        "\n",
        "    \n",
        "def gauss_noise(images, labels, sigma2): \n",
        "    \"\"\"Adds Gaussian noise with parameter sigma2. For each image draw d1xd2 random\n",
        "    noise values from N(0,sigma2) and add those to the original image.\n",
        "        Parameters:\n",
        "            images (d1,d2): d1 x d2 array \n",
        "        Returns:\n",
        "            noisy_image: array of noisy image\n",
        "    \"\"\"\n",
        "    new_images = np.zeros_like(images)\n",
        "    new_labels = np.zeros_like(labels)\n",
        "    \n",
        "    #For each image in set...\n",
        "    for i,image in enumerate(images):\n",
        "        \n",
        "        d1, d2, c = image.shape \n",
        "        \n",
        "        vals = np.random.normal(0,sigma2, d1*d2)\n",
        "        \n",
        "        if is_color:\n",
        "          new_images[i] = noise_image_helper(image, vals)\n",
        "        else:\n",
        "          new_images[i] = noise_label_helper(image, vals)\n",
        "        new_labels[i] = noise_label_helper(labels[i], vals)\n",
        "\n",
        "    \n",
        "    return new_images, new_labels\n",
        "    "
      ],
      "metadata": {
        "id": "VvRPoACPwDku"
      },
      "execution_count": null,
      "outputs": []
    },
    {
      "cell_type": "markdown",
      "source": [
        "### Code starts here"
      ],
      "metadata": {
        "id": "6UfWQzaC8ahy"
      }
    },
    {
      "cell_type": "code",
      "source": [
        "#Only run this cell if you are working in Colab and are storing your data there\n",
        "drive.mount('/content/gdrive')"
      ],
      "metadata": {
        "colab": {
          "base_uri": "https://localhost:8080/"
        },
        "id": "BXqKN3ChsALF",
        "outputId": "ac0e4223-16fe-495d-a84c-8abe8df647f7"
      },
      "execution_count": null,
      "outputs": [
        {
          "output_type": "stream",
          "name": "stdout",
          "text": [
            "Drive already mounted at /content/gdrive; to attempt to forcibly remount, call drive.mount(\"/content/gdrive\", force_remount=True).\n"
          ]
        }
      ]
    },
    {
      "cell_type": "code",
      "source": [
        "#Adjust this path to point to where your images and labels are stored.\n",
        "path = '/content/gdrive/MyDrive'\n",
        "\n",
        "#Change these based on the names of your image and label files\n",
        "data_file = 'data.npy'\n",
        "label_file = 'labels.npy'\n",
        "\n",
        "#This value should be true for images with 3 channels (RGB channels) and false for black and white.\n",
        "#Basically it adjusts the size of the array built to store new images\n",
        "is_color = True"
      ],
      "metadata": {
        "id": "hOhYZMT11GPS"
      },
      "execution_count": null,
      "outputs": []
    },
    {
      "cell_type": "code",
      "source": [
        "#Load images and labels\n",
        "images = np.load(os.path.join(path, data_file))\n",
        "labels = np.load(os.path.join(path, label_file))"
      ],
      "metadata": {
        "id": "9ZyvFg2OsFAM"
      },
      "execution_count": null,
      "outputs": []
    },
    {
      "cell_type": "code",
      "source": [
        "def image_augment(X,Y,parameters, num):\n",
        "    \"\"\" transform the images using the functions above. \n",
        "    Parameters:\n",
        "        X (N,d1,d2): array containing N images of dimension d1 x d2\n",
        "        Y (N,): Labels/values for each image\n",
        "        parameters: List of parameter values [A,B,theta,A,sigma2]\n",
        "        num (int): Number of times you want to augment each image/label pair\n",
        "    Returns:\n",
        "        augmented_X (num*N,d1,d2): original and transformed data in one array \n",
        "        augmented_Y (num*N): corresponding labels/values\n",
        "    \"\"\"\n",
        "    \n",
        "    #Unpack parameters\n",
        "    A1,B,theta,A2,sigma2 = parameters[0],parameters[1],parameters[2],parameters[3],parameters[4]\n",
        "    \n",
        "    #List of available transformations\n",
        "    transformations = [translate, rotate, skew, flip_horizontal, gauss_noise]\n",
        "    \n",
        "    #Create parameters dictionary mapping transformations to corresponding parameters\n",
        "    params = {translate: [A1,B], rotate:[theta], skew:[A2], gauss_noise:[sigma2],flip_horizontal:[]}\n",
        "    \n",
        "    n,d1,d2,c = X.shape\n",
        "    augmented_images = np.zeros(((n*5*num)+n,d1,d2,c))\n",
        "    augmented_labels = np.zeros(((n*5*num)+n,d1,d2))\n",
        "    \n",
        "    augmented_images[:n] = X\n",
        "    augmented_labels[:n] = Y\n",
        "    \n",
        "    #Transform images\n",
        "    for i in range(num):\n",
        "      for j,t in enumerate(transformations):\n",
        "        new_images, new_labels = t(X,Y,*params[t])\n",
        "        augmented_images[(n*(j+1) + 5*n*i):(n*(j+2) + 5*n*i)] = new_images\n",
        "        augmented_labels[(n*(j+1) + 5*n*i):(n*(j+2) + 5*n*i)] = new_labels\n",
        "    \n",
        "    return augmented_images, augmented_labels"
      ],
      "metadata": {
        "id": "Vrqry6Pezt-I"
      },
      "execution_count": null,
      "outputs": []
    },
    {
      "cell_type": "code",
      "source": [
        "#These parameters correspond to the transformation functions\n",
        "translate_param1 = int(images[0].shape[1] / 2)\n",
        "translate_param2 = int(images[0].shape[0] / 2)\n",
        "rotate_param = np.pi / 2\n",
        "skew_param = 1\n",
        "gauss_param = 1\n",
        "\n",
        "parameters = [translate_param1,translate_param2,rotate_param, skew_param, gauss_param]\n",
        "\n",
        "#Number of times to perform each transformation on each image\n",
        "#NOTE - this will result in 5 * num * num_images new images.\n",
        "num = 6\n",
        "\n",
        "aug_images, aug_labels = image_augment(images, labels, parameters, num)"
      ],
      "metadata": {
        "id": "kJnTYgk70JSP"
      },
      "execution_count": null,
      "outputs": []
    },
    {
      "cell_type": "code",
      "source": [
        "#Sample to make sure it worked\n",
        "plt.imshow(aug_images[100])"
      ],
      "metadata": {
        "colab": {
          "base_uri": "https://localhost:8080/",
          "height": 287
        },
        "id": "FF-5RMkqCJZ4",
        "outputId": "5c807b36-3244-4cb7-e62f-d7479edf9693"
      },
      "execution_count": null,
      "outputs": [
        {
          "output_type": "execute_result",
          "data": {
            "text/plain": [
              "<matplotlib.image.AxesImage at 0x7fc4be8ec410>"
            ]
          },
          "metadata": {},
          "execution_count": 123
        },
        {
          "output_type": "display_data",
          "data": {
            "image/png": "[encoded data removed]",
            "text/plain": [
              "<Figure size 432x288 with 1 Axes>"
            ]
          },
          "metadata": {
            "needs_background": "light"
          }
        }
      ]
    },
    {
      "cell_type": "code",
      "source": [
        "plt.imshow(aug_labels[100])"
      ],
      "metadata": {
        "colab": {
          "base_uri": "https://localhost:8080/",
          "height": 287
        },
        "id": "0IuP8OuEJnNQ",
        "outputId": "d3197f44-db78-419b-fe31-740ec6938fc6"
      },
      "execution_count": null,
      "outputs": [
        {
          "output_type": "execute_result",
          "data": {
            "text/plain": [
              "<matplotlib.image.AxesImage at 0x7fc4be873b90>"
            ]
          },
          "metadata": {},
          "execution_count": 124
        },
        {
          "output_type": "display_data",
          "data": {
            "image/png": "[encoded data removed]",
            "text/plain": [
              "<Figure size 432x288 with 1 Axes>"
            ]
          },
          "metadata": {
            "needs_background": "light"
          }
        }
      ]
    },
    {
      "cell_type": "code",
      "source": [
        "#Save augmented images and labels at original path provided\n",
        "#Adjust path and filenames as desired\n",
        "os.chdir(path)\n",
        "np.save('augmented_images.npy', aug_images)\n",
        "np.save('augmented_labels.npy', aug_labels)"
      ],
      "metadata": {
        "id": "wL5wmmfjJxkb"
      },
      "execution_count": null,
      "outputs": []
    },
    {
      "cell_type": "markdown",
      "source": [
        "# Experimental Stuff\n",
        "\n",
        "The following is an idea I had for a different kind of image augmentation. Instead of transforming an augmented image, I would take full sized images, and look at smaller 'windows' of that image. One big difference is that your new dataset will potentially contain a lot of new images that don't contain any wildfire, but this might be a good thing as it could help train a model that can truly distinguish when there is or isn't fire. One issue though is if you get too many images without fire, your model might start predicting that everything doesn't have fire and still obtain a reasonable accuracy."
      ],
      "metadata": {
        "id": "FxURYCDP_U58"
      }
    },
    {
      "cell_type": "code",
      "source": [
        "aug_images = np.load(os.path.join('/content/gdrive/MyDrive', 'augmented_images.npy'))\n",
        "aug_labels = np.load(os.path.join('/content/gdrive/MyDrive', 'augmented_labels.npy'))"
      ],
      "metadata": {
        "id": "r6z_vZrc2GGi"
      },
      "execution_count": null,
      "outputs": []
    },
    {
      "cell_type": "code",
      "source": [
        "#Desire size of window\n",
        "new_dim = 256\n",
        "\n",
        "#Size of starting image\n",
        "#For example, default is 2048 becuase original images were 2048x2048\n",
        "starting_size = 2048\n",
        "limit = starting_size - 1 - new_dim\n",
        "\n",
        "#Number of 'windows' to grab from original image\n",
        "num_images = 10\n",
        "\n",
        "#Assumes RGB images, not black and white\n",
        "num, height, width, channels = images.shape\n",
        "new_images = np.zeros((num*num_images, new_dim, new_dim, channels))\n",
        "new_labels = np.zeros((num*num_images, new_dim, new_dim))\n",
        "\n",
        "for i,img in enumerate(images):\n",
        "  label = labels[i]\n",
        "  for j in range(num_images):\n",
        "    a = np.random.randint(limit)\n",
        "    b = np.random.randint(limit)\n",
        "    new_im = img[a:a+new_dim,b:b+new_dim]\n",
        "    new_l = label[a:a+new_dim,b:b+new_dim]\n",
        "\n",
        "    new_images[num_images*i + j] = new_im\n",
        "    new_labels[num_images*i + j] = new_l"
      ],
      "metadata": {
        "id": "pLcqcbO72fkW"
      },
      "execution_count": null,
      "outputs": []
    },
    {
      "cell_type": "code",
      "source": [
        "np.save('new_augmented_images.npy', new_images)\n",
        "np.save('new_augmented_labels.npy', new_labels)"
      ],
      "metadata": {
        "id": "KESVByUH2xpQ"
      },
      "execution_count": null,
      "outputs": []
    },
    {
      "cell_type": "code",
      "source": [
        "#This code adds the transformed images and labels from above to the new 'windows' set\n",
        "old_num = aug_images.shape[0]\n",
        "new_num = new_images.shape[0]\n",
        "\n",
        "final_aug_images = np.zeros((old_num + new_num, 256,256,3))\n",
        "final_aug_labels = np.zeros((old_num + new_num, 256,256))\n",
        "\n",
        "final_aug_images[:old_num] = aug_images\n",
        "final_aug_images[old_num:] = new_images\n",
        "\n",
        "final_aug_labels[:old_num] = aug_labels\n",
        "final_aug_labels[old_num:] = new_labels"
      ],
      "metadata": {
        "id": "un72FCPx6Zhw"
      },
      "execution_count": null,
      "outputs": []
    },
    {
      "cell_type": "code",
      "source": [
        "np.save('final_augmented_images.npy', final_aug_images)\n",
        "np.save('final_augmented_labels.npy', final_aug_labels)"
      ],
      "metadata": {
        "id": "vdaJz0Yz7q8-"
      },
      "execution_count": null,
      "outputs": []
    },
    {
      "cell_type": "code",
      "source": [
        ""
      ],
      "metadata": {
        "id": "5GdmbaJi79-1"
      },
      "execution_count": null,
      "outputs": []
    }
  ]
}